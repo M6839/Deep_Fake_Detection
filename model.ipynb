{
  "nbformat": 4,
  "nbformat_minor": 0,
  "metadata": {
    "colab": {
      "provenance": []
    },
    "kernelspec": {
      "name": "python3",
      "display_name": "Python 3"
    },
    "language_info": {
      "name": "python"
    }
  },
  "cells": [
    {
      "cell_type": "code",
      "execution_count": 2,
      "metadata": {
        "colab": {
          "base_uri": "https://localhost:8080/"
        },
        "id": "wYFBrP_h6ofi",
        "outputId": "0a30043f-cfce-4130-feda-d097629c72a8"
      },
      "outputs": [
        {
          "output_type": "stream",
          "name": "stdout",
          "text": [
            "Drive already mounted at /content/drive; to attempt to forcibly remount, call drive.mount(\"/content/drive\", force_remount=True).\n"
          ]
        }
      ],
      "source": [
        "from google.colab import drive\n",
        "drive.mount('/content/drive')\n"
      ]
    },
    {
      "cell_type": "code",
      "source": [
        "!pip install tensorflow numpy opencv-python scikit-learn\n"
      ],
      "metadata": {
        "colab": {
          "base_uri": "https://localhost:8080/"
        },
        "id": "YvKLDS1_7Ga4",
        "outputId": "d864fb20-9959-4913-a278-c26e635f21e7"
      },
      "execution_count": 3,
      "outputs": [
        {
          "output_type": "stream",
          "name": "stdout",
          "text": [
            "Requirement already satisfied: tensorflow in /usr/local/lib/python3.11/dist-packages (2.18.0)\n",
            "Requirement already satisfied: numpy in /usr/local/lib/python3.11/dist-packages (1.26.4)\n",
            "Requirement already satisfied: opencv-python in /usr/local/lib/python3.11/dist-packages (4.11.0.86)\n",
            "Requirement already satisfied: scikit-learn in /usr/local/lib/python3.11/dist-packages (1.6.1)\n",
            "Requirement already satisfied: absl-py>=1.0.0 in /usr/local/lib/python3.11/dist-packages (from tensorflow) (1.4.0)\n",
            "Requirement already satisfied: astunparse>=1.6.0 in /usr/local/lib/python3.11/dist-packages (from tensorflow) (1.6.3)\n",
            "Requirement already satisfied: flatbuffers>=24.3.25 in /usr/local/lib/python3.11/dist-packages (from tensorflow) (25.2.10)\n",
            "Requirement already satisfied: gast!=0.5.0,!=0.5.1,!=0.5.2,>=0.2.1 in /usr/local/lib/python3.11/dist-packages (from tensorflow) (0.6.0)\n",
            "Requirement already satisfied: google-pasta>=0.1.1 in /usr/local/lib/python3.11/dist-packages (from tensorflow) (0.2.0)\n",
            "Requirement already satisfied: libclang>=13.0.0 in /usr/local/lib/python3.11/dist-packages (from tensorflow) (18.1.1)\n",
            "Requirement already satisfied: opt-einsum>=2.3.2 in /usr/local/lib/python3.11/dist-packages (from tensorflow) (3.4.0)\n",
            "Requirement already satisfied: packaging in /usr/local/lib/python3.11/dist-packages (from tensorflow) (24.2)\n",
            "Requirement already satisfied: protobuf!=4.21.0,!=4.21.1,!=4.21.2,!=4.21.3,!=4.21.4,!=4.21.5,<6.0.0dev,>=3.20.3 in /usr/local/lib/python3.11/dist-packages (from tensorflow) (4.25.6)\n",
            "Requirement already satisfied: requests<3,>=2.21.0 in /usr/local/lib/python3.11/dist-packages (from tensorflow) (2.32.3)\n",
            "Requirement already satisfied: setuptools in /usr/local/lib/python3.11/dist-packages (from tensorflow) (75.1.0)\n",
            "Requirement already satisfied: six>=1.12.0 in /usr/local/lib/python3.11/dist-packages (from tensorflow) (1.17.0)\n",
            "Requirement already satisfied: termcolor>=1.1.0 in /usr/local/lib/python3.11/dist-packages (from tensorflow) (2.5.0)\n",
            "Requirement already satisfied: typing-extensions>=3.6.6 in /usr/local/lib/python3.11/dist-packages (from tensorflow) (4.12.2)\n",
            "Requirement already satisfied: wrapt>=1.11.0 in /usr/local/lib/python3.11/dist-packages (from tensorflow) (1.17.2)\n",
            "Requirement already satisfied: grpcio<2.0,>=1.24.3 in /usr/local/lib/python3.11/dist-packages (from tensorflow) (1.70.0)\n",
            "Requirement already satisfied: tensorboard<2.19,>=2.18 in /usr/local/lib/python3.11/dist-packages (from tensorflow) (2.18.0)\n",
            "Requirement already satisfied: keras>=3.5.0 in /usr/local/lib/python3.11/dist-packages (from tensorflow) (3.8.0)\n",
            "Requirement already satisfied: h5py>=3.11.0 in /usr/local/lib/python3.11/dist-packages (from tensorflow) (3.12.1)\n",
            "Requirement already satisfied: ml-dtypes<0.5.0,>=0.4.0 in /usr/local/lib/python3.11/dist-packages (from tensorflow) (0.4.1)\n",
            "Requirement already satisfied: tensorflow-io-gcs-filesystem>=0.23.1 in /usr/local/lib/python3.11/dist-packages (from tensorflow) (0.37.1)\n",
            "Requirement already satisfied: scipy>=1.6.0 in /usr/local/lib/python3.11/dist-packages (from scikit-learn) (1.13.1)\n",
            "Requirement already satisfied: joblib>=1.2.0 in /usr/local/lib/python3.11/dist-packages (from scikit-learn) (1.4.2)\n",
            "Requirement already satisfied: threadpoolctl>=3.1.0 in /usr/local/lib/python3.11/dist-packages (from scikit-learn) (3.5.0)\n",
            "Requirement already satisfied: wheel<1.0,>=0.23.0 in /usr/local/lib/python3.11/dist-packages (from astunparse>=1.6.0->tensorflow) (0.45.1)\n",
            "Requirement already satisfied: rich in /usr/local/lib/python3.11/dist-packages (from keras>=3.5.0->tensorflow) (13.9.4)\n",
            "Requirement already satisfied: namex in /usr/local/lib/python3.11/dist-packages (from keras>=3.5.0->tensorflow) (0.0.8)\n",
            "Requirement already satisfied: optree in /usr/local/lib/python3.11/dist-packages (from keras>=3.5.0->tensorflow) (0.14.0)\n",
            "Requirement already satisfied: charset-normalizer<4,>=2 in /usr/local/lib/python3.11/dist-packages (from requests<3,>=2.21.0->tensorflow) (3.4.1)\n",
            "Requirement already satisfied: idna<4,>=2.5 in /usr/local/lib/python3.11/dist-packages (from requests<3,>=2.21.0->tensorflow) (3.10)\n",
            "Requirement already satisfied: urllib3<3,>=1.21.1 in /usr/local/lib/python3.11/dist-packages (from requests<3,>=2.21.0->tensorflow) (2.3.0)\n",
            "Requirement already satisfied: certifi>=2017.4.17 in /usr/local/lib/python3.11/dist-packages (from requests<3,>=2.21.0->tensorflow) (2025.1.31)\n",
            "Requirement already satisfied: markdown>=2.6.8 in /usr/local/lib/python3.11/dist-packages (from tensorboard<2.19,>=2.18->tensorflow) (3.7)\n",
            "Requirement already satisfied: tensorboard-data-server<0.8.0,>=0.7.0 in /usr/local/lib/python3.11/dist-packages (from tensorboard<2.19,>=2.18->tensorflow) (0.7.2)\n",
            "Requirement already satisfied: werkzeug>=1.0.1 in /usr/local/lib/python3.11/dist-packages (from tensorboard<2.19,>=2.18->tensorflow) (3.1.3)\n",
            "Requirement already satisfied: MarkupSafe>=2.1.1 in /usr/local/lib/python3.11/dist-packages (from werkzeug>=1.0.1->tensorboard<2.19,>=2.18->tensorflow) (3.0.2)\n",
            "Requirement already satisfied: markdown-it-py>=2.2.0 in /usr/local/lib/python3.11/dist-packages (from rich->keras>=3.5.0->tensorflow) (3.0.0)\n",
            "Requirement already satisfied: pygments<3.0.0,>=2.13.0 in /usr/local/lib/python3.11/dist-packages (from rich->keras>=3.5.0->tensorflow) (2.18.0)\n",
            "Requirement already satisfied: mdurl~=0.1 in /usr/local/lib/python3.11/dist-packages (from markdown-it-py>=2.2.0->rich->keras>=3.5.0->tensorflow) (0.1.2)\n"
          ]
        }
      ]
    },
    {
      "cell_type": "code",
      "source": [
        "import tensorflow as tf\n",
        "from tensorflow import keras\n",
        "from tensorflow.keras import layers\n",
        "import numpy as np\n",
        "import cv2\n",
        "import os\n",
        "import json\n",
        "from sklearn.model_selection import train_test_split\n"
      ],
      "metadata": {
        "id": "yEuX_dm-7bNX"
      },
      "execution_count": 4,
      "outputs": []
    },
    {
      "cell_type": "code",
      "source": [
        "videos_path = \"/content/drive/My Drive/FF_Face_only_data\"  # Modify this if using Google Drive\n",
        "metadata_path = \"/content/drive/My Drive/FF_Face_only_data/metadata.csv\"\n"
      ],
      "metadata": {
        "id": "vYnvJmOX7owy"
      },
      "execution_count": 4,
      "outputs": []
    },
    {
      "cell_type": "code",
      "source": [
        "import pandas as pd\n",
        "\n",
        "def load_metadata(metadata_path):\n",
        "    try:\n",
        "        df = pd.read_csv(metadata_path)\n",
        "        print(\"Columns in the metadata file:\", df.columns) # Print column names for debugging\n",
        "        if 'video_path' not in df.columns:\n",
        "            print(\"Error: 'video_path' column not found in the metadata file. Please check the file and column names.\")\n",
        "            return None\n",
        "        if 'label' not in df.columns:\n",
        "            print(\"Error: 'label' column not found in the metadata file. Please check the file and column names.\")\n",
        "            return None\n",
        "        metadata = {row['video_path']: row['label'] for _, row in df.iterrows()}\n",
        "        return metadata\n",
        "    except FileNotFoundError:\n",
        "        print(f\"Error: File not found at {metadata_path}\")\n",
        "        return None\n",
        "    except Exception as e:\n",
        "        print(f\"An unexpected error occurred: {e}\")\n",
        "        return None\n",
        "\n",
        "\n",
        "metadata = load_metadata(metadata_path)\n",
        "if metadata:\n",
        "    print(metadata)  # Verify it loads correctly"
      ],
      "metadata": {
        "colab": {
          "base_uri": "https://localhost:8080/"
        },
        "id": "A6rrECha-CWg",
        "outputId": "a339f954-9c24-4901-a1d1-56c4bc980589"
      },
      "execution_count": 5,
      "outputs": [
        {
          "output_type": "stream",
          "name": "stdout",
          "text": [
            "Columns in the metadata file: Index(['video_path', 'label'], dtype='object')\n",
            "{'000.mp4': 'REAL', '000_003.mp4': 'FAKE', '001.mp4': 'REAL', '001_870.mp4': 'FAKE', '002.mp4': 'REAL', '002_006.mp4': 'FAKE', '003.mp4': 'REAL', '003_000.mp4': 'FAKE', '004.mp4': 'REAL', '004_982.mp4': 'FAKE', '005.mp4': 'REAL', '005_010.mp4': 'FAKE', '006.mp4': 'REAL', '006_002.mp4': 'FAKE', '007.mp4': 'REAL', '007_132.mp4': 'FAKE', '008.mp4': 'REAL', '008_990.mp4': 'FAKE', '009.mp4': 'REAL', '009_027.mp4': 'FAKE', '010.mp4': 'REAL', '010_005.mp4': 'FAKE', '011.mp4': 'REAL', '011_805.mp4': 'FAKE', '012.mp4': 'REAL', '012_026.mp4': 'FAKE', '013.mp4': 'REAL', '013_883.mp4': 'FAKE', '014.mp4': 'REAL', '014_790.mp4': 'FAKE', '015.mp4': 'REAL', '015_919.mp4': 'FAKE', '016.mp4': 'REAL', '016_209.mp4': 'FAKE', '017.mp4': 'REAL', '017_803.mp4': 'FAKE', '018.mp4': 'REAL', '018_019.mp4': 'FAKE', '019.mp4': 'REAL', '019_018.mp4': 'FAKE', '020.mp4': 'REAL', '020_344.mp4': 'FAKE', '021.mp4': 'REAL', '021_312.mp4': 'FAKE', '022.mp4': 'REAL', '022_489.mp4': 'FAKE', '023.mp4': 'REAL', '023_923.mp4': 'FAKE', '024.mp4': 'REAL', '024_073.mp4': 'FAKE', '025.mp4': 'REAL', '025_067.mp4': 'FAKE', '026.mp4': 'REAL', '026_012.mp4': 'FAKE', '027.mp4': 'REAL', '027_009.mp4': 'FAKE', '028.mp4': 'REAL', '028_068.mp4': 'FAKE', '029.mp4': 'REAL', '029_048.mp4': 'FAKE', '030.mp4': 'REAL', '030_193.mp4': 'FAKE', '031.mp4': 'REAL', '031_163.mp4': 'FAKE', '032.mp4': 'REAL', '032_944.mp4': 'FAKE', '033.mp4': 'REAL', '033_097.mp4': 'FAKE', '034.mp4': 'REAL', '034_590.mp4': 'FAKE', '035.mp4': 'REAL', '035_036.mp4': 'FAKE', '036.mp4': 'REAL', '036_035.mp4': 'FAKE', '037.mp4': 'REAL', '037_072.mp4': 'FAKE', '038.mp4': 'REAL', '038_125.mp4': 'FAKE', '039.mp4': 'REAL', '039_058.mp4': 'FAKE', '040.mp4': 'REAL', '040_997.mp4': 'FAKE', '041.mp4': 'REAL', '041_063.mp4': 'FAKE', '042.mp4': 'REAL', '042_084.mp4': 'FAKE', '043.mp4': 'REAL', '043_110.mp4': 'FAKE', '044.mp4': 'REAL', '044_945.mp4': 'FAKE', '045.mp4': 'REAL', '045_889.mp4': 'FAKE', '046.mp4': 'REAL', '046_904.mp4': 'FAKE', '047.mp4': 'REAL', '047_862.mp4': 'FAKE', '048.mp4': 'REAL', '048_029.mp4': 'FAKE', '049.mp4': 'REAL', '049_946.mp4': 'FAKE', '050.mp4': 'REAL', '050_059.mp4': 'FAKE', '051.mp4': 'REAL', '051_332.mp4': 'FAKE', '052.mp4': 'REAL', '052_108.mp4': 'FAKE', '053.mp4': 'REAL', '053_095.mp4': 'FAKE', '054.mp4': 'REAL', '054_071.mp4': 'FAKE', '055.mp4': 'REAL', '055_147.mp4': 'FAKE', '056.mp4': 'REAL', '056_996.mp4': 'FAKE', '057.mp4': 'REAL', '057_070.mp4': 'FAKE', '058.mp4': 'REAL', '058_039.mp4': 'FAKE', '059.mp4': 'REAL', '059_050.mp4': 'FAKE', '060.mp4': 'REAL', '060_088.mp4': 'FAKE', '061.mp4': 'REAL', '061_080.mp4': 'FAKE', '062.mp4': 'REAL', '062_066.mp4': 'FAKE', '063.mp4': 'REAL', '063_041.mp4': 'FAKE', '064.mp4': 'REAL', '064_991.mp4': 'FAKE', '065.mp4': 'REAL', '065_089.mp4': 'FAKE', '066.mp4': 'REAL', '066_062.mp4': 'FAKE', '067.mp4': 'REAL', '067_025.mp4': 'FAKE', '068.mp4': 'REAL', '068_028.mp4': 'FAKE', '069.mp4': 'REAL', '069_961.mp4': 'FAKE', '070.mp4': 'REAL', '070_057.mp4': 'FAKE', '071.mp4': 'REAL', '071_054.mp4': 'FAKE', '072.mp4': 'REAL', '072_037.mp4': 'FAKE', '073.mp4': 'REAL', '073_024.mp4': 'FAKE', '074.mp4': 'REAL', '074_825.mp4': 'FAKE', '075.mp4': 'REAL', '075_977.mp4': 'FAKE', '076.mp4': 'REAL', '076_079.mp4': 'FAKE', '077.mp4': 'REAL', '077_100.mp4': 'FAKE', '078.mp4': 'REAL', '078_955.mp4': 'FAKE', '079.mp4': 'REAL', '079_076.mp4': 'FAKE', '080.mp4': 'REAL', '080_061.mp4': 'FAKE', '081.mp4': 'REAL', '081_087.mp4': 'FAKE', '082.mp4': 'REAL', '082_103.mp4': 'FAKE', '083.mp4': 'REAL', '083_213.mp4': 'FAKE', '084.mp4': 'REAL', '084_042.mp4': 'FAKE', '085.mp4': 'REAL', '085_124.mp4': 'FAKE', '086.mp4': 'REAL', '086_090.mp4': 'FAKE', '087.mp4': 'REAL', '087_081.mp4': 'FAKE', '088.mp4': 'REAL', '088_060.mp4': 'FAKE', '089.mp4': 'REAL', '089_065.mp4': 'FAKE', '090.mp4': 'REAL', '090_086.mp4': 'FAKE', '091.mp4': 'REAL', '091_116.mp4': 'FAKE', '092.mp4': 'REAL', '092_098.mp4': 'FAKE', '093.mp4': 'REAL', '093_121.mp4': 'FAKE', '094.mp4': 'REAL', '094_111.mp4': 'FAKE', '095.mp4': 'REAL', '095_053.mp4': 'FAKE', '096.mp4': 'REAL', '096_101.mp4': 'FAKE', '097.mp4': 'REAL', '097_033.mp4': 'FAKE', '098.mp4': 'REAL', '098_092.mp4': 'FAKE', '099.mp4': 'REAL', '099_295.mp4': 'FAKE', '100.mp4': 'REAL', '100_077.mp4': 'FAKE', '101.mp4': 'REAL', '101_096.mp4': 'FAKE', '102.mp4': 'REAL', '102_114.mp4': 'FAKE', '103.mp4': 'REAL', '103_082.mp4': 'FAKE', '104.mp4': 'REAL', '104_126.mp4': 'FAKE', '105.mp4': 'REAL', '105_180.mp4': 'FAKE', '106.mp4': 'REAL', '106_198.mp4': 'FAKE', '107.mp4': 'REAL', '107_109.mp4': 'FAKE', '108.mp4': 'REAL', '108_052.mp4': 'FAKE', '109.mp4': 'REAL', '109_107.mp4': 'FAKE', '110.mp4': 'REAL', '110_043.mp4': 'FAKE', '111.mp4': 'REAL', '111_094.mp4': 'FAKE', '112.mp4': 'REAL', '112_892.mp4': 'FAKE', '113.mp4': 'REAL', '113_983.mp4': 'FAKE', '114.mp4': 'REAL', '114_102.mp4': 'FAKE', '115.mp4': 'REAL', '115_939.mp4': 'FAKE', '116.mp4': 'REAL', '116_091.mp4': 'FAKE', '117.mp4': 'REAL', '117_217.mp4': 'FAKE', '118.mp4': 'REAL', '118_120.mp4': 'FAKE', '119.mp4': 'REAL', '119_123.mp4': 'FAKE', '120.mp4': 'REAL', '120_118.mp4': 'FAKE', '121.mp4': 'REAL', '121_093.mp4': 'FAKE', '122.mp4': 'REAL', '122_144.mp4': 'FAKE', '123.mp4': 'REAL', '123_119.mp4': 'FAKE', '124.mp4': 'REAL', '124_085.mp4': 'FAKE', '125.mp4': 'REAL', '125_038.mp4': 'FAKE', '126.mp4': 'REAL', '126_104.mp4': 'FAKE', '127.mp4': 'REAL', '127_129.mp4': 'FAKE', '128.mp4': 'REAL', '128_896.mp4': 'FAKE', '129.mp4': 'REAL', '129_127.mp4': 'FAKE', '130.mp4': 'REAL', '130_139.mp4': 'FAKE', '131.mp4': 'REAL', '131_518.mp4': 'FAKE', '132.mp4': 'REAL', '132_007.mp4': 'FAKE', '133.mp4': 'REAL', '133_148.mp4': 'FAKE', '134.mp4': 'REAL', '134_192.mp4': 'FAKE', '135.mp4': 'REAL', '135_880.mp4': 'FAKE', '136.mp4': 'REAL', '137.mp4': 'REAL', '137_165.mp4': 'FAKE', '138.mp4': 'REAL', '138_142.mp4': 'FAKE', '139.mp4': 'REAL', '139_130.mp4': 'FAKE', '140.mp4': 'REAL', '140_143.mp4': 'FAKE', '141.mp4': 'REAL', '141_161.mp4': 'FAKE', '142.mp4': 'REAL', '142_138.mp4': 'FAKE', '143.mp4': 'REAL', '143_140.mp4': 'FAKE', '144.mp4': 'REAL', '144_122.mp4': 'FAKE', '145_299.mp4': 'FAKE', '146.mp4': 'REAL', '146_256.mp4': 'FAKE', '147.mp4': 'REAL', '147_055.mp4': 'FAKE', '148.mp4': 'REAL', '148_133.mp4': 'FAKE', '149.mp4': 'REAL', '149_152.mp4': 'FAKE', '150.mp4': 'REAL', '150_153.mp4': 'FAKE', '151.mp4': 'REAL', '151_225.mp4': 'FAKE', '152.mp4': 'REAL', '152_149.mp4': 'FAKE', '153.mp4': 'REAL', '153_150.mp4': 'FAKE', '154.mp4': 'REAL', '154_386.mp4': 'FAKE', '155.mp4': 'REAL', '155_576.mp4': 'FAKE', '156.mp4': 'REAL', '156_243.mp4': 'FAKE', '157.mp4': 'REAL', '157_245.mp4': 'FAKE', '158.mp4': 'REAL', '158_379.mp4': 'FAKE', '159.mp4': 'REAL', '159_175.mp4': 'FAKE', '160.mp4': 'REAL', '160_928.mp4': 'FAKE', '161.mp4': 'REAL', '161_141.mp4': 'FAKE', '162.mp4': 'REAL', '162_330.mp4': 'FAKE', '163.mp4': 'REAL', '163_031.mp4': 'FAKE', '164.mp4': 'REAL', '164_216.mp4': 'FAKE', '165.mp4': 'REAL', '165_137.mp4': 'FAKE', '166.mp4': 'REAL', '166_167.mp4': 'FAKE', '167.mp4': 'REAL', '167_166.mp4': 'FAKE', '168.mp4': 'REAL', '168_222.mp4': 'FAKE', '169.mp4': 'REAL', '169_227.mp4': 'FAKE', '170.mp4': 'REAL', '170_186.mp4': 'FAKE', '171.mp4': 'REAL', '171_173.mp4': 'FAKE', '172.mp4': 'REAL', '172_582.mp4': 'FAKE', '173.mp4': 'REAL', '173_171.mp4': 'FAKE', '174.mp4': 'REAL', '174_964.mp4': 'FAKE', '175.mp4': 'REAL', '175_159.mp4': 'FAKE', '176.mp4': 'REAL', '176_190.mp4': 'FAKE', '177.mp4': 'REAL', '177_211.mp4': 'FAKE', '178.mp4': 'REAL', '178_598.mp4': 'FAKE', '179.mp4': 'REAL', '179_212.mp4': 'FAKE', '180.mp4': 'REAL', '180_105.mp4': 'FAKE', '181.mp4': 'REAL', '181_199.mp4': 'FAKE', '182.mp4': 'REAL', '182_242.mp4': 'FAKE', '183.mp4': 'REAL', '183_253.mp4': 'FAKE', '184.mp4': 'REAL', '184_205.mp4': 'FAKE', '185.mp4': 'REAL', '185_276.mp4': 'FAKE', '186.mp4': 'REAL', '186_170.mp4': 'FAKE', '187.mp4': 'REAL', '187_234.mp4': 'FAKE', '188.mp4': 'REAL', '188_191.mp4': 'FAKE', '189.mp4': 'REAL', '189_200.mp4': 'FAKE', '190.mp4': 'REAL', '190_176.mp4': 'FAKE', '191.mp4': 'REAL', '191_188.mp4': 'FAKE', '192.mp4': 'REAL', '192_134.mp4': 'FAKE', '193.mp4': 'REAL', '193_030.mp4': 'FAKE', '194.mp4': 'REAL', '194_235.mp4': 'FAKE', '195.mp4': 'REAL', '195_442.mp4': 'FAKE', '196.mp4': 'REAL', '196_310.mp4': 'FAKE', '197.mp4': 'REAL', '197_224.mp4': 'FAKE', '198.mp4': 'REAL', '198_106.mp4': 'FAKE', '199.mp4': 'REAL', '199_181.mp4': 'FAKE', '200.mp4': 'REAL', '200_189.mp4': 'FAKE', '201.mp4': 'REAL', '201_203.mp4': 'FAKE', '202.mp4': 'REAL', '202_348.mp4': 'FAKE', '203.mp4': 'REAL', '203_201.mp4': 'FAKE', '204.mp4': 'REAL', '204_230.mp4': 'FAKE', '205.mp4': 'REAL', '205_184.mp4': 'FAKE', '206.mp4': 'REAL', '206_221.mp4': 'FAKE', '207.mp4': 'REAL', '207_908.mp4': 'FAKE', '208.mp4': 'REAL', '208_215.mp4': 'FAKE', '209.mp4': 'REAL', '209_016.mp4': 'FAKE', '210.mp4': 'REAL', '210_241.mp4': 'FAKE', '211.mp4': 'REAL', '211_177.mp4': 'FAKE', '212.mp4': 'REAL', '212_179.mp4': 'FAKE', '213.mp4': 'REAL', '213_083.mp4': 'FAKE', '214.mp4': 'REAL', '214_255.mp4': 'FAKE', '215.mp4': 'REAL', '215_208.mp4': 'FAKE', '216.mp4': 'REAL', '216_164.mp4': 'FAKE', '217.mp4': 'REAL', '217_117.mp4': 'FAKE', '218.mp4': 'REAL', '218_239.mp4': 'FAKE', '219.mp4': 'REAL', '219_220.mp4': 'FAKE', '220.mp4': 'REAL', '220_219.mp4': 'FAKE', '221.mp4': 'REAL', '221_206.mp4': 'FAKE', '222.mp4': 'REAL', '222_168.mp4': 'FAKE', '223.mp4': 'REAL', '223_586.mp4': 'FAKE', '224.mp4': 'REAL', '224_197.mp4': 'FAKE', '225.mp4': 'REAL', '225_151.mp4': 'FAKE', '226.mp4': 'REAL', '226_491.mp4': 'FAKE', '227.mp4': 'REAL', '227_169.mp4': 'FAKE', '228.mp4': 'REAL', '228_289.mp4': 'FAKE', '229.mp4': 'REAL', '229_247.mp4': 'FAKE', '230.mp4': 'REAL', '230_204.mp4': 'FAKE', '231.mp4': 'REAL', '231_663.mp4': 'FAKE', '232.mp4': 'REAL', '232_248.mp4': 'FAKE', '233.mp4': 'REAL', '233_995.mp4': 'FAKE', '234.mp4': 'REAL', '234_187.mp4': 'FAKE', '235.mp4': 'REAL', '235_194.mp4': 'FAKE', '236.mp4': 'REAL', '236_237.mp4': 'FAKE', '237.mp4': 'REAL', '237_236.mp4': 'FAKE', '238.mp4': 'REAL', '238_282.mp4': 'FAKE', '239.mp4': 'REAL', '239_218.mp4': 'FAKE', '240.mp4': 'REAL', '240_290.mp4': 'FAKE', '241.mp4': 'REAL', '241_210.mp4': 'FAKE', '242.mp4': 'REAL', '242_182.mp4': 'FAKE', '243.mp4': 'REAL', '243_156.mp4': 'FAKE', '244.mp4': 'REAL', '244_822.mp4': 'FAKE', '245.mp4': 'REAL', '245_157.mp4': 'FAKE', '246.mp4': 'REAL', '246_258.mp4': 'FAKE', '247.mp4': 'REAL', '247_229.mp4': 'FAKE', '248.mp4': 'REAL', '248_232.mp4': 'FAKE', '249.mp4': 'REAL', '249_280.mp4': 'FAKE', '250.mp4': 'REAL', '250_461.mp4': 'FAKE', '251.mp4': 'REAL', '251_375.mp4': 'FAKE', '252.mp4': 'REAL', '252_266.mp4': 'FAKE', '253.mp4': 'REAL', '253_183.mp4': 'FAKE', '254.mp4': 'REAL', '254_261.mp4': 'FAKE', '255.mp4': 'REAL', '255_214.mp4': 'FAKE', '256.mp4': 'REAL', '256_146.mp4': 'FAKE', '257.mp4': 'REAL', '257_420.mp4': 'FAKE', '258.mp4': 'REAL', '258_246.mp4': 'FAKE', '259.mp4': 'REAL', '259_345.mp4': 'FAKE', '260.mp4': 'REAL', '260_331.mp4': 'FAKE', '261.mp4': 'REAL', '261_254.mp4': 'FAKE', '262.mp4': 'REAL', '262_301.mp4': 'FAKE', '263.mp4': 'REAL', '263_284.mp4': 'FAKE', '264.mp4': 'REAL', '264_271.mp4': 'FAKE', '265.mp4': 'REAL', '265_475.mp4': 'FAKE', '266.mp4': 'REAL', '266_252.mp4': 'FAKE', '267.mp4': 'REAL', '267_286.mp4': 'FAKE', '268.mp4': 'REAL', '268_269.mp4': 'FAKE', '269.mp4': 'REAL', '269_268.mp4': 'FAKE', '270.mp4': 'REAL', '270_297.mp4': 'FAKE', '271.mp4': 'REAL', '271_264.mp4': 'FAKE', '272.mp4': 'REAL', '272_396.mp4': 'FAKE', '273.mp4': 'REAL', '273_807.mp4': 'FAKE', '274.mp4': 'REAL', '274_412.mp4': 'FAKE', '275.mp4': 'REAL', '275_887.mp4': 'FAKE', '276.mp4': 'REAL', '276_185.mp4': 'FAKE', '277.mp4': 'REAL', '277_335.mp4': 'FAKE', '278.mp4': 'REAL', '278_306.mp4': 'FAKE', '279.mp4': 'REAL', '279_298.mp4': 'FAKE', '280.mp4': 'REAL', '280_249.mp4': 'FAKE', '281.mp4': 'REAL', '281_474.mp4': 'FAKE', '282_238.mp4': 'FAKE', '283.mp4': 'REAL', '283_313.mp4': 'FAKE', '284.mp4': 'REAL', '284_263.mp4': 'FAKE', '285.mp4': 'REAL', '285_136.mp4': 'FAKE', '286.mp4': 'REAL', '286_267.mp4': 'FAKE', '287.mp4': 'REAL', '287_426.mp4': 'FAKE', '288.mp4': 'REAL', '288_321.mp4': 'FAKE', '289.mp4': 'REAL', '289_228.mp4': 'FAKE', '290.mp4': 'REAL', '290_240.mp4': 'FAKE', '291.mp4': 'REAL', '291_874.mp4': 'FAKE', '292.mp4': 'REAL', '292_294.mp4': 'FAKE', '293.mp4': 'REAL', '293_296.mp4': 'FAKE', '294.mp4': 'REAL', '294_292.mp4': 'FAKE', '295.mp4': 'REAL', '295_099.mp4': 'FAKE', '296.mp4': 'REAL', '296_293.mp4': 'FAKE', '297.mp4': 'REAL', '297_270.mp4': 'FAKE', '298.mp4': 'REAL', '298_279.mp4': 'FAKE', '299.mp4': 'REAL', '299_145.mp4': 'FAKE', '300.mp4': 'REAL', '300_304.mp4': 'FAKE', '301.mp4': 'REAL', '301_262.mp4': 'FAKE', '302.mp4': 'REAL', '302_323.mp4': 'FAKE', '303.mp4': 'REAL', '303_309.mp4': 'FAKE', '304.mp4': 'REAL', '304_300.mp4': 'FAKE', '305.mp4': 'REAL', '306.mp4': 'REAL', '306_278.mp4': 'FAKE', '307.mp4': 'REAL', '307_365.mp4': 'FAKE', '308.mp4': 'REAL', '308_388.mp4': 'FAKE', '309.mp4': 'REAL', '309_303.mp4': 'FAKE', '310.mp4': 'REAL', '310_196.mp4': 'FAKE', '311.mp4': 'REAL', '311_387.mp4': 'FAKE', '312.mp4': 'REAL', '312_021.mp4': 'FAKE', '313.mp4': 'REAL', '313_283.mp4': 'FAKE', '314.mp4': 'REAL', '314_347.mp4': 'FAKE', '315.mp4': 'REAL', '315_322.mp4': 'FAKE', '316.mp4': 'REAL', '316_369.mp4': 'FAKE', '317.mp4': 'REAL', '317_359.mp4': 'FAKE', '318.mp4': 'REAL', '318_334.mp4': 'FAKE', '319.mp4': 'REAL', '319_352.mp4': 'FAKE', '320.mp4': 'REAL', '320_328.mp4': 'FAKE', '321.mp4': 'REAL', '321_288.mp4': 'FAKE', '322.mp4': 'REAL', '322_315.mp4': 'FAKE', '323.mp4': 'REAL', '323_302.mp4': 'FAKE', '324.mp4': 'REAL', '324_356.mp4': 'FAKE', '325.mp4': 'REAL', '325_492.mp4': 'FAKE', '326.mp4': 'REAL', '326_501.mp4': 'FAKE', '327.mp4': 'REAL', '327_329.mp4': 'FAKE', '328.mp4': 'REAL', '328_320.mp4': 'FAKE', '329.mp4': 'REAL', '329_327.mp4': 'FAKE', '330.mp4': 'REAL', '330_162.mp4': 'FAKE', '331.mp4': 'REAL', '331_260.mp4': 'FAKE', '332.mp4': 'REAL', '332_051.mp4': 'FAKE', '333.mp4': 'REAL', '333_377.mp4': 'FAKE', '334.mp4': 'REAL', '334_318.mp4': 'FAKE', '335.mp4': 'REAL', '335_277.mp4': 'FAKE', '336.mp4': 'REAL', '336_338.mp4': 'FAKE', '337.mp4': 'REAL', '337_522.mp4': 'FAKE', '338.mp4': 'REAL', '338_336.mp4': 'FAKE', '339.mp4': 'REAL', '339_392.mp4': 'FAKE', '340.mp4': 'REAL', '340_341.mp4': 'FAKE', '341.mp4': 'REAL', '341_340.mp4': 'FAKE', '342.mp4': 'REAL', '342_416.mp4': 'FAKE', '343.mp4': 'REAL', '343_363.mp4': 'FAKE', '344.mp4': 'REAL', '344_020.mp4': 'FAKE', '345.mp4': 'REAL', '345_259.mp4': 'FAKE', '346.mp4': 'REAL', '346_351.mp4': 'FAKE', '347.mp4': 'REAL', '347_314.mp4': 'FAKE', '348.mp4': 'REAL', '348_202.mp4': 'FAKE', '349.mp4': 'REAL', '349_350.mp4': 'FAKE', '350.mp4': 'REAL', '350_349.mp4': 'FAKE', '351.mp4': 'REAL', '351_346.mp4': 'FAKE', '352.mp4': 'REAL', '352_319.mp4': 'FAKE', '353.mp4': 'REAL', '353_383.mp4': 'FAKE', '354.mp4': 'REAL', '354_362.mp4': 'FAKE', '355.mp4': 'REAL', '355_748.mp4': 'FAKE', '356.mp4': 'REAL', '356_324.mp4': 'FAKE', '357.mp4': 'REAL', '357_432.mp4': 'FAKE', '358.mp4': 'REAL', '358_380.mp4': 'FAKE', '359.mp4': 'REAL', '359_317.mp4': 'FAKE', '360.mp4': 'REAL', '360_437.mp4': 'FAKE', '361.mp4': 'REAL', '361_448.mp4': 'FAKE', '362.mp4': 'REAL', '362_354.mp4': 'FAKE', '363.mp4': 'REAL', '363_343.mp4': 'FAKE', '364.mp4': 'REAL', '364_440.mp4': 'FAKE', '365.mp4': 'REAL', '365_307.mp4': 'FAKE', '366.mp4': 'REAL', '366_473.mp4': 'FAKE', '367.mp4': 'REAL', '367_371.mp4': 'FAKE', '368.mp4': 'REAL', '368_378.mp4': 'FAKE', '369.mp4': 'REAL', '369_316.mp4': 'FAKE', '370.mp4': 'REAL', '370_483.mp4': 'FAKE', '371.mp4': 'REAL', '371_367.mp4': 'FAKE', '372.mp4': 'REAL', '372_413.mp4': 'FAKE', '373.mp4': 'REAL', '373_394.mp4': 'FAKE', '374.mp4': 'REAL', '374_407.mp4': 'FAKE', '375.mp4': 'REAL', '375_251.mp4': 'FAKE', '376.mp4': 'REAL', '376_381.mp4': 'FAKE', '377.mp4': 'REAL', '377_333.mp4': 'FAKE', '378.mp4': 'REAL', '378_368.mp4': 'FAKE', '379.mp4': 'REAL', '379_158.mp4': 'FAKE', '380.mp4': 'REAL', '380_358.mp4': 'FAKE', '381.mp4': 'REAL', '381_376.mp4': 'FAKE', '382.mp4': 'REAL', '382_409.mp4': 'FAKE', '383.mp4': 'REAL', '383_353.mp4': 'FAKE', '384.mp4': 'REAL', '384_932.mp4': 'FAKE', '385.mp4': 'REAL', '385_414.mp4': 'FAKE', '386.mp4': 'REAL', '386_154.mp4': 'FAKE', '387.mp4': 'REAL', '387_311.mp4': 'FAKE', '388.mp4': 'REAL', '388_308.mp4': 'FAKE', '389.mp4': 'REAL', '389_480.mp4': 'FAKE', '390.mp4': 'REAL', '390_709.mp4': 'FAKE', '391.mp4': 'REAL', '391_406.mp4': 'FAKE', '392.mp4': 'REAL', '392_339.mp4': 'FAKE', '393.mp4': 'REAL', '393_405.mp4': 'FAKE', '394.mp4': 'REAL', '394_373.mp4': 'FAKE', '395.mp4': 'REAL', '395_401.mp4': 'FAKE', '396.mp4': 'REAL', '396_272.mp4': 'FAKE', '397.mp4': 'REAL', '397_602.mp4': 'FAKE', '398.mp4': 'REAL', '398_457.mp4': 'FAKE', '399.mp4': 'REAL', '399_488.mp4': 'FAKE', '400.mp4': 'REAL', '400_476.mp4': 'FAKE', '401.mp4': 'REAL', '401_395.mp4': 'FAKE', '402.mp4': 'REAL', '402_453.mp4': 'FAKE', '403.mp4': 'REAL', '403_497.mp4': 'FAKE', '404.mp4': 'REAL', '404_429.mp4': 'FAKE', '405.mp4': 'REAL', '405_393.mp4': 'FAKE', '406.mp4': 'REAL', '406_391.mp4': 'FAKE', '407.mp4': 'REAL', '407_374.mp4': 'FAKE', '408.mp4': 'REAL', '408_424.mp4': 'FAKE', '409.mp4': 'REAL', '409_382.mp4': 'FAKE', '410.mp4': 'REAL', '410_411.mp4': 'FAKE', '411.mp4': 'REAL', '411_410.mp4': 'FAKE', '412.mp4': 'REAL', '412_274.mp4': 'FAKE', '413.mp4': 'REAL', '413_372.mp4': 'FAKE', '414.mp4': 'REAL', '414_385.mp4': 'FAKE', '415.mp4': 'REAL', '415_484.mp4': 'FAKE', '416.mp4': 'REAL', '416_342.mp4': 'FAKE', '417.mp4': 'REAL', '417_496.mp4': 'FAKE', '418.mp4': 'REAL', '418_507.mp4': 'FAKE', '419.mp4': 'REAL', '419_824.mp4': 'FAKE', '420.mp4': 'REAL', '420_257.mp4': 'FAKE', '421.mp4': 'REAL', '421_423.mp4': 'FAKE', '422.mp4': 'REAL', '422_695.mp4': 'FAKE', '423.mp4': 'REAL', '423_421.mp4': 'FAKE', '424.mp4': 'REAL', '424_408.mp4': 'FAKE', '425.mp4': 'REAL', '425_485.mp4': 'FAKE', '426.mp4': 'REAL', '426_287.mp4': 'FAKE', '427.mp4': 'REAL', '427_637.mp4': 'FAKE', '428.mp4': 'REAL', '428_466.mp4': 'FAKE', '429.mp4': 'REAL', '429_404.mp4': 'FAKE', '430.mp4': 'REAL', '430_459.mp4': 'FAKE', '431.mp4': 'REAL', '431_447.mp4': 'FAKE', '432.mp4': 'REAL', '432_357.mp4': 'FAKE', '433.mp4': 'REAL', '433_498.mp4': 'FAKE', '434.mp4': 'REAL', '434_438.mp4': 'FAKE', '435.mp4': 'REAL', '435_456.mp4': 'FAKE', '436.mp4': 'REAL', '436_526.mp4': 'FAKE', '437.mp4': 'REAL', '437_360.mp4': 'FAKE', '438.mp4': 'REAL', '438_434.mp4': 'FAKE', '439.mp4': 'REAL', '439_441.mp4': 'FAKE', '440.mp4': 'REAL', '440_364.mp4': 'FAKE', '441.mp4': 'REAL', '441_439.mp4': 'FAKE', '442.mp4': 'REAL', '442_195.mp4': 'FAKE', '443.mp4': 'REAL', '443_514.mp4': 'FAKE', '444.mp4': 'REAL', '444_655.mp4': 'FAKE', '445.mp4': 'REAL', '445_494.mp4': 'FAKE', '446.mp4': 'REAL', '446_667.mp4': 'FAKE', '447.mp4': 'REAL', '447_431.mp4': 'FAKE', '448.mp4': 'REAL', '448_361.mp4': 'FAKE', '449.mp4': 'REAL', '449_451.mp4': 'FAKE', '450.mp4': 'REAL', '450_533.mp4': 'FAKE', '451.mp4': 'REAL', '451_449.mp4': 'FAKE', '452.mp4': 'REAL', '452_550.mp4': 'FAKE', '453.mp4': 'REAL', '453_402.mp4': 'FAKE', '454.mp4': 'REAL', '454_527.mp4': 'FAKE', '455.mp4': 'REAL', '455_471.mp4': 'FAKE', '456.mp4': 'REAL', '456_435.mp4': 'FAKE', '457.mp4': 'REAL', '457_398.mp4': 'FAKE', '458.mp4': 'REAL', '458_722.mp4': 'FAKE', '459.mp4': 'REAL', '459_430.mp4': 'FAKE', '460.mp4': 'REAL', '460_678.mp4': 'FAKE', '461.mp4': 'REAL', '461_250.mp4': 'FAKE', '462.mp4': 'REAL', '462_467.mp4': 'FAKE', '463.mp4': 'REAL', '463_464.mp4': 'FAKE', '464.mp4': 'REAL', '464_463.mp4': 'FAKE', '465.mp4': 'REAL', '465_482.mp4': 'FAKE', '466.mp4': 'REAL', '466_428.mp4': 'FAKE', '467.mp4': 'REAL', '467_462.mp4': 'FAKE', '468.mp4': 'REAL', '468_470.mp4': 'FAKE', '469.mp4': 'REAL', '469_481.mp4': 'FAKE', '470.mp4': 'REAL', '470_468.mp4': 'FAKE', '471.mp4': 'REAL', '471_455.mp4': 'FAKE', '472.mp4': 'REAL', '472_511.mp4': 'FAKE', '473.mp4': 'REAL', '473_366.mp4': 'FAKE', '474.mp4': 'REAL', '474_281.mp4': 'FAKE', '475.mp4': 'REAL', '475_265.mp4': 'FAKE', '476.mp4': 'REAL', '476_400.mp4': 'FAKE', '477.mp4': 'REAL', '477_487.mp4': 'FAKE', '478.mp4': 'REAL', '478_506.mp4': 'FAKE', '479.mp4': 'REAL', '479_706.mp4': 'FAKE', '480.mp4': 'REAL', '480_389.mp4': 'FAKE', '481.mp4': 'REAL', '481_469.mp4': 'FAKE', '482.mp4': 'REAL', '482_465.mp4': 'FAKE', '483.mp4': 'REAL', '483_370.mp4': 'FAKE', '484.mp4': 'REAL', '484_415.mp4': 'FAKE', '485.mp4': 'REAL', '485_425.mp4': 'FAKE', '486.mp4': 'REAL', '486_680.mp4': 'FAKE', '487.mp4': 'REAL', '487_477.mp4': 'FAKE', '488.mp4': 'REAL', '489.mp4': 'REAL', '489_022.mp4': 'FAKE', '490.mp4': 'REAL', '490_534.mp4': 'FAKE', '491.mp4': 'REAL', '491_226.mp4': 'FAKE', '492.mp4': 'REAL', '492_325.mp4': 'FAKE', '493.mp4': 'REAL', '493_538.mp4': 'FAKE', '494.mp4': 'REAL', '494_445.mp4': 'FAKE', '495.mp4': 'REAL', '495_512.mp4': 'FAKE', '496.mp4': 'REAL', '496_417.mp4': 'FAKE', '497.mp4': 'REAL', '497_403.mp4': 'FAKE', '498.mp4': 'REAL', '498_433.mp4': 'FAKE', '499.mp4': 'REAL', '499_539.mp4': 'FAKE', '500.mp4': 'REAL', '500_592.mp4': 'FAKE', '501.mp4': 'REAL', '502.mp4': 'REAL', '502_504.mp4': 'FAKE', '503.mp4': 'REAL', '503_756.mp4': 'FAKE', '504.mp4': 'REAL', '504_502.mp4': 'FAKE', '505.mp4': 'REAL', '505_600.mp4': 'FAKE', '506.mp4': 'REAL', '506_478.mp4': 'FAKE', '507.mp4': 'REAL', '507_418.mp4': 'FAKE', '508.mp4': 'REAL', '508_831.mp4': 'FAKE', '509.mp4': 'REAL', '509_525.mp4': 'FAKE', '510.mp4': 'REAL', '510_528.mp4': 'FAKE', '511.mp4': 'REAL', '511_472.mp4': 'FAKE', '512.mp4': 'REAL', '512_495.mp4': 'FAKE', '513.mp4': 'REAL', '513_305.mp4': 'FAKE', '514.mp4': 'REAL', '514_443.mp4': 'FAKE', '515.mp4': 'REAL', '515_519.mp4': 'FAKE', '516.mp4': 'REAL', '516_555.mp4': 'FAKE', '517.mp4': 'REAL', '517_521.mp4': 'FAKE', '518.mp4': 'REAL', '518_131.mp4': 'FAKE', '519.mp4': 'REAL', '519_515.mp4': 'FAKE', '520.mp4': 'REAL', '520_542.mp4': 'FAKE', '521.mp4': 'REAL', '521_517.mp4': 'FAKE', '522.mp4': 'REAL', '522_337.mp4': 'FAKE', '523.mp4': 'REAL', '523_541.mp4': 'FAKE', '524.mp4': 'REAL', '524_580.mp4': 'FAKE', '525.mp4': 'REAL', '525_509.mp4': 'FAKE', '526.mp4': 'REAL', '526_436.mp4': 'FAKE', '527.mp4': 'REAL', '527_454.mp4': 'FAKE', '528.mp4': 'REAL', '528_510.mp4': 'FAKE', '529.mp4': 'REAL', '529_633.mp4': 'FAKE', '530.mp4': 'REAL', '530_594.mp4': 'FAKE', '531.mp4': 'REAL', '531_549.mp4': 'FAKE', '532.mp4': 'REAL', '532_544.mp4': 'FAKE', '533.mp4': 'REAL', '533_450.mp4': 'FAKE', '534.mp4': 'REAL', '534_490.mp4': 'FAKE', '535.mp4': 'REAL', '535_587.mp4': 'FAKE', '536.mp4': 'REAL', '536_540.mp4': 'FAKE', '537.mp4': 'REAL', '537_563.mp4': 'FAKE', '538.mp4': 'REAL', '538_493.mp4': 'FAKE', '539.mp4': 'REAL', '539_499.mp4': 'FAKE', '540.mp4': 'REAL', '540_536.mp4': 'FAKE', '541.mp4': 'REAL', '541_523.mp4': 'FAKE', '542.mp4': 'REAL', '542_520.mp4': 'FAKE', '543.mp4': 'REAL', '543_559.mp4': 'FAKE', '544.mp4': 'REAL', '544_532.mp4': 'FAKE', '545.mp4': 'REAL', '545_553.mp4': 'FAKE', '546.mp4': 'REAL', '546_621.mp4': 'FAKE', '547.mp4': 'REAL', '547_574.mp4': 'FAKE', '548.mp4': 'REAL', '548_632.mp4': 'FAKE', '549.mp4': 'REAL', '549_531.mp4': 'FAKE', '550.mp4': 'REAL', '550_452.mp4': 'FAKE', '551.mp4': 'REAL', '551_631.mp4': 'FAKE', '552.mp4': 'REAL', '552_851.mp4': 'FAKE', '553.mp4': 'REAL', '553_545.mp4': 'FAKE', '554.mp4': 'REAL', '554_572.mp4': 'FAKE', '555.mp4': 'REAL', '555_516.mp4': 'FAKE', '556.mp4': 'REAL', '556_588.mp4': 'FAKE', '557.mp4': 'REAL', '557_560.mp4': 'FAKE', '558.mp4': 'REAL', '558_583.mp4': 'FAKE', '559.mp4': 'REAL', '559_543.mp4': 'FAKE', '560.mp4': 'REAL', '560_557.mp4': 'FAKE', '561.mp4': 'REAL', '561_998.mp4': 'FAKE', '562.mp4': 'REAL', '562_626.mp4': 'FAKE', '563.mp4': 'REAL', '563_537.mp4': 'FAKE', '564.mp4': 'REAL', '564_971.mp4': 'FAKE', '565.mp4': 'REAL', '565_589.mp4': 'FAKE', '566.mp4': 'REAL', '566_617.mp4': 'FAKE', '567.mp4': 'REAL', '567_606.mp4': 'FAKE', '568.mp4': 'REAL', '568_628.mp4': 'FAKE', '569.mp4': 'REAL', '569_921.mp4': 'FAKE', '570.mp4': 'REAL', '570_624.mp4': 'FAKE', '571.mp4': 'REAL', '571_746.mp4': 'FAKE', '572.mp4': 'REAL', '572_554.mp4': 'FAKE', '573.mp4': 'REAL', '573_757.mp4': 'FAKE', '574.mp4': 'REAL', '574_547.mp4': 'FAKE', '575.mp4': 'REAL', '575_603.mp4': 'FAKE', '576.mp4': 'REAL', '576_155.mp4': 'FAKE', '577.mp4': 'REAL', '577_593.mp4': 'FAKE', '578.mp4': 'REAL', '578_636.mp4': 'FAKE', '579.mp4': 'REAL', '579_701.mp4': 'FAKE', '580.mp4': 'REAL', '580_524.mp4': 'FAKE', '581.mp4': 'REAL', '581_697.mp4': 'FAKE', '582.mp4': 'REAL', '582_172.mp4': 'FAKE', '583.mp4': 'REAL', '583_558.mp4': 'FAKE', '584.mp4': 'REAL', '584_823.mp4': 'FAKE', '585.mp4': 'REAL', '585_599.mp4': 'FAKE', '586.mp4': 'REAL', '586_223.mp4': 'FAKE', '587.mp4': 'REAL', '587_535.mp4': 'FAKE', '588.mp4': 'REAL', '588_556.mp4': 'FAKE', '589.mp4': 'REAL', '589_565.mp4': 'FAKE', '590.mp4': 'REAL', '590_034.mp4': 'FAKE', '591.mp4': 'REAL', '591_605.mp4': 'FAKE', '592.mp4': 'REAL', '592_500.mp4': 'FAKE', '593.mp4': 'REAL', '593_577.mp4': 'FAKE', '594.mp4': 'REAL', '594_530.mp4': 'FAKE', '595.mp4': 'REAL', '595_597.mp4': 'FAKE', '596.mp4': 'REAL', '596_609.mp4': 'FAKE', '597.mp4': 'REAL', '597_595.mp4': 'FAKE', '598.mp4': 'REAL', '598_178.mp4': 'FAKE', '599.mp4': 'REAL', '599_585.mp4': 'FAKE', '600.mp4': 'REAL', '600_505.mp4': 'FAKE', '601.mp4': 'REAL', '601_653.mp4': 'FAKE', '602.mp4': 'REAL', '602_397.mp4': 'FAKE', '603.mp4': 'REAL', '603_575.mp4': 'FAKE', '604.mp4': 'REAL', '604_703.mp4': 'FAKE', '605.mp4': 'REAL', '605_591.mp4': 'FAKE', '606.mp4': 'REAL', '606_567.mp4': 'FAKE', '607.mp4': 'REAL', '607_683.mp4': 'FAKE', '608.mp4': 'REAL', '608_675.mp4': 'FAKE', '609.mp4': 'REAL', '609_596.mp4': 'FAKE', '610.mp4': 'REAL', '610_692.mp4': 'FAKE', '611.mp4': 'REAL', '611_760.mp4': 'FAKE', '612.mp4': 'REAL', '612_702.mp4': 'FAKE', '613.mp4': 'REAL', '613_685.mp4': 'FAKE', '614.mp4': 'REAL', '614_616.mp4': 'FAKE', '615.mp4': 'REAL', '615_687.mp4': 'FAKE', '616.mp4': 'REAL', '616_614.mp4': 'FAKE', '617.mp4': 'REAL', '617_566.mp4': 'FAKE', '618_629.mp4': 'FAKE', '619.mp4': 'REAL', '619_620.mp4': 'FAKE', '620.mp4': 'REAL', '620_619.mp4': 'FAKE', '621.mp4': 'REAL', '621_546.mp4': 'FAKE', '622.mp4': 'REAL', '622_647.mp4': 'FAKE', '623.mp4': 'REAL', '623_630.mp4': 'FAKE', '624.mp4': 'REAL', '624_570.mp4': 'FAKE', '625.mp4': 'REAL', '625_650.mp4': 'FAKE', '626.mp4': 'REAL', '626_562.mp4': 'FAKE', '627.mp4': 'REAL', '627_658.mp4': 'FAKE', '628.mp4': 'REAL', '628_568.mp4': 'FAKE', '629.mp4': 'REAL', '629_618.mp4': 'FAKE', '630.mp4': 'REAL', '630_623.mp4': 'FAKE', '631.mp4': 'REAL', '631_551.mp4': 'FAKE', '632.mp4': 'REAL', '632_548.mp4': 'FAKE', '633.mp4': 'REAL', '633_529.mp4': 'FAKE', '634.mp4': 'REAL', '634_660.mp4': 'FAKE', '635.mp4': 'REAL', '635_642.mp4': 'FAKE', '636.mp4': 'REAL', '636_578.mp4': 'FAKE', '637.mp4': 'REAL', '637_427.mp4': 'FAKE', '638.mp4': 'REAL', '638_640.mp4': 'FAKE', '639.mp4': 'REAL', '639_841.mp4': 'FAKE', '640.mp4': 'REAL', '640_638.mp4': 'FAKE', '641.mp4': 'REAL', '641_662.mp4': 'FAKE', '642.mp4': 'REAL', '642_635.mp4': 'FAKE', '643.mp4': 'REAL', '643_646.mp4': 'FAKE', '644.mp4': 'REAL', '644_657.mp4': 'FAKE', '645.mp4': 'REAL', '645_688.mp4': 'FAKE', '646.mp4': 'REAL', '646_643.mp4': 'FAKE', '647.mp4': 'REAL', '647_622.mp4': 'FAKE', '648.mp4': 'REAL', '648_654.mp4': 'FAKE', '649.mp4': 'REAL', '649_816.mp4': 'FAKE', '650.mp4': 'REAL', '650_625.mp4': 'FAKE', '651.mp4': 'REAL', '651_835.mp4': 'FAKE', '652.mp4': 'REAL', '652_773.mp4': 'FAKE', '653.mp4': 'REAL', '653_601.mp4': 'FAKE', '654.mp4': 'REAL', '654_648.mp4': 'FAKE', '655.mp4': 'REAL', '655_444.mp4': 'FAKE', '656.mp4': 'REAL', '656_666.mp4': 'FAKE', '657.mp4': 'REAL', '657_644.mp4': 'FAKE', '658.mp4': 'REAL', '658_627.mp4': 'FAKE', '659.mp4': 'REAL', '659_749.mp4': 'FAKE', '660.mp4': 'REAL', '660_634.mp4': 'FAKE', '661.mp4': 'REAL', '661_670.mp4': 'FAKE', '662.mp4': 'REAL', '662_641.mp4': 'FAKE', '663.mp4': 'REAL', '663_231.mp4': 'FAKE', '664.mp4': 'REAL', '664_668.mp4': 'FAKE', '665.mp4': 'REAL', '665_679.mp4': 'FAKE', '666.mp4': 'REAL', '666_656.mp4': 'FAKE', '667.mp4': 'REAL', '667_446.mp4': 'FAKE', '668.mp4': 'REAL', '668_664.mp4': 'FAKE', '669.mp4': 'REAL', '669_682.mp4': 'FAKE', '670.mp4': 'REAL', '670_661.mp4': 'FAKE', '671_677.mp4': 'FAKE', '672.mp4': 'REAL', '672_720.mp4': 'FAKE', '673.mp4': 'REAL', '673_728.mp4': 'FAKE', '674.mp4': 'REAL', '674_744.mp4': 'FAKE', '675.mp4': 'REAL', '675_608.mp4': 'FAKE', '676.mp4': 'REAL', '676_776.mp4': 'FAKE', '677.mp4': 'REAL', '677_671.mp4': 'FAKE', '678.mp4': 'REAL', '678_460.mp4': 'FAKE', '679.mp4': 'REAL', '679_665.mp4': 'FAKE', '680.mp4': 'REAL', '680_486.mp4': 'FAKE', '681.mp4': 'REAL', '681_711.mp4': 'FAKE', '682.mp4': 'REAL', '682_669.mp4': 'FAKE', '683.mp4': 'REAL', '683_607.mp4': 'FAKE', '684.mp4': 'REAL', '684_717.mp4': 'FAKE', '685.mp4': 'REAL', '685_613.mp4': 'FAKE', '686.mp4': 'REAL', '686_696.mp4': 'FAKE', '687.mp4': 'REAL', '687_615.mp4': 'FAKE', '688.mp4': 'REAL', '688_645.mp4': 'FAKE', '689.mp4': 'REAL', '689_690.mp4': 'FAKE', '690.mp4': 'REAL', '690_689.mp4': 'FAKE', '691.mp4': 'REAL', '691_732.mp4': 'FAKE', '692.mp4': 'REAL', '692_610.mp4': 'FAKE', '693.mp4': 'REAL', '693_698.mp4': 'FAKE', '694.mp4': 'REAL', '694_767.mp4': 'FAKE', '695.mp4': 'REAL', '695_422.mp4': 'FAKE', '696.mp4': 'REAL', '696_686.mp4': 'FAKE', '697.mp4': 'REAL', '697_581.mp4': 'FAKE', '698.mp4': 'REAL', '698_693.mp4': 'FAKE', '699.mp4': 'REAL', '699_734.mp4': 'FAKE', '700.mp4': 'REAL', '700_813.mp4': 'FAKE', '701.mp4': 'REAL', '701_579.mp4': 'FAKE', '702.mp4': 'REAL', '702_612.mp4': 'FAKE', '703.mp4': 'REAL', '703_604.mp4': 'FAKE', '704.mp4': 'REAL', '704_723.mp4': 'FAKE', '705.mp4': 'REAL', '705_707.mp4': 'FAKE', '706.mp4': 'REAL', '706_479.mp4': 'FAKE', '707.mp4': 'REAL', '707_705.mp4': 'FAKE', '708.mp4': 'REAL', '708_772.mp4': 'FAKE', '709.mp4': 'REAL', '709_390.mp4': 'FAKE', '710.mp4': 'REAL', '710_788.mp4': 'FAKE', '711.mp4': 'REAL', '711_681.mp4': 'FAKE', '712.mp4': 'REAL', '712_716.mp4': 'FAKE', '713.mp4': 'REAL', '713_726.mp4': 'FAKE', '714.mp4': 'REAL', '714_842.mp4': 'FAKE', '715.mp4': 'REAL', '715_721.mp4': 'FAKE', '716.mp4': 'REAL', '716_712.mp4': 'FAKE', '717.mp4': 'REAL', '717_684.mp4': 'FAKE', '718.mp4': 'REAL', '718_972.mp4': 'FAKE', '719.mp4': 'REAL', '719_737.mp4': 'FAKE', '720.mp4': 'REAL', '720_672.mp4': 'FAKE', '721.mp4': 'REAL', '721_715.mp4': 'FAKE', '722.mp4': 'REAL', '722_458.mp4': 'FAKE', '723.mp4': 'REAL', '723_704.mp4': 'FAKE', '724.mp4': 'REAL', '724_725.mp4': 'FAKE', '725.mp4': 'REAL', '725_724.mp4': 'FAKE', '726.mp4': 'REAL', '726_713.mp4': 'FAKE', '727.mp4': 'REAL', '727_729.mp4': 'FAKE', '728.mp4': 'REAL', '728_673.mp4': 'FAKE', '729.mp4': 'REAL', '729_727.mp4': 'FAKE', '730.mp4': 'REAL', '730_815.mp4': 'FAKE', '731.mp4': 'REAL', '731_741.mp4': 'FAKE', '732.mp4': 'REAL', '732_691.mp4': 'FAKE', '733.mp4': 'REAL', '733_935.mp4': 'FAKE', '734.mp4': 'REAL', '734_699.mp4': 'FAKE', '735.mp4': 'REAL', '735_774.mp4': 'FAKE', '736.mp4': 'REAL', '736_785.mp4': 'FAKE', '737.mp4': 'REAL', '737_719.mp4': 'FAKE', '738.mp4': 'REAL', '738_804.mp4': 'FAKE', '739.mp4': 'REAL', '739_865.mp4': 'FAKE', '740.mp4': 'REAL', '740_796.mp4': 'FAKE', '741.mp4': 'REAL', '741_731.mp4': 'FAKE', '742.mp4': 'REAL', '742_775.mp4': 'FAKE', '743.mp4': 'REAL', '743_750.mp4': 'FAKE', '744.mp4': 'REAL', '744_674.mp4': 'FAKE', '745.mp4': 'REAL', '745_777.mp4': 'FAKE', '746.mp4': 'REAL', '746_571.mp4': 'FAKE', '747.mp4': 'REAL', '747_854.mp4': 'FAKE', '748.mp4': 'REAL', '748_355.mp4': 'FAKE', '749.mp4': 'REAL', '749_659.mp4': 'FAKE', '750.mp4': 'REAL', '750_743.mp4': 'FAKE', '751.mp4': 'REAL', '751_752.mp4': 'FAKE', '752.mp4': 'REAL', '752_751.mp4': 'FAKE', '753.mp4': 'REAL', '753_789.mp4': 'FAKE', '754.mp4': 'REAL', '754_758.mp4': 'FAKE', '755.mp4': 'REAL', '755_759.mp4': 'FAKE', '756.mp4': 'REAL', '756_503.mp4': 'FAKE', '757.mp4': 'REAL', '757_573.mp4': 'FAKE', '758.mp4': 'REAL', '758_754.mp4': 'FAKE', '759_755.mp4': 'FAKE', '760.mp4': 'REAL', '760_611.mp4': 'FAKE', '761.mp4': 'REAL', '761_766.mp4': 'FAKE', '762.mp4': 'REAL', '762_832.mp4': 'FAKE', '763.mp4': 'REAL', '763_930.mp4': 'FAKE', '764.mp4': 'REAL', '764_850.mp4': 'FAKE', '765.mp4': 'REAL', '765_867.mp4': 'FAKE', '766.mp4': 'REAL', '766_761.mp4': 'FAKE', '767.mp4': 'REAL', '767_694.mp4': 'FAKE', '768.mp4': 'REAL', '768_793.mp4': 'FAKE', '769.mp4': 'REAL', '769_784.mp4': 'FAKE', '770.mp4': 'REAL', '770_791.mp4': 'FAKE', '771.mp4': 'REAL', '771_849.mp4': 'FAKE', '772.mp4': 'REAL', '772_708.mp4': 'FAKE', '773.mp4': 'REAL', '773_652.mp4': 'FAKE', '774.mp4': 'REAL', '774_735.mp4': 'FAKE', '775.mp4': 'REAL', '775_742.mp4': 'FAKE', '776.mp4': 'REAL', '776_676.mp4': 'FAKE', '777.mp4': 'REAL', '777_745.mp4': 'FAKE', '778.mp4': 'REAL', '778_798.mp4': 'FAKE', '779.mp4': 'REAL', '779_794.mp4': 'FAKE', '780.mp4': 'REAL', '780_869.mp4': 'FAKE', '781.mp4': 'REAL', '781_806.mp4': 'FAKE', '782.mp4': 'REAL', '782_787.mp4': 'FAKE', '783.mp4': 'REAL', '783_916.mp4': 'FAKE', '784.mp4': 'REAL', '784_769.mp4': 'FAKE', '785.mp4': 'REAL', '785_736.mp4': 'FAKE', '786.mp4': 'REAL', '786_819.mp4': 'FAKE', '787.mp4': 'REAL', '787_782.mp4': 'FAKE', '788.mp4': 'REAL', '788_710.mp4': 'FAKE', '789.mp4': 'REAL', '789_753.mp4': 'FAKE', '790.mp4': 'REAL', '790_014.mp4': 'FAKE', '791.mp4': 'REAL', '791_770.mp4': 'FAKE', '792.mp4': 'REAL', '792_903.mp4': 'FAKE', '793.mp4': 'REAL', '793_768.mp4': 'FAKE', '794.mp4': 'REAL', '794_779.mp4': 'FAKE', '795.mp4': 'REAL', '795_907.mp4': 'FAKE', '796.mp4': 'REAL', '796_740.mp4': 'FAKE', '797.mp4': 'REAL', '797_844.mp4': 'FAKE', '798.mp4': 'REAL', '798_778.mp4': 'FAKE', '799.mp4': 'REAL', '799_809.mp4': 'FAKE', '800.mp4': 'REAL', '800_840.mp4': 'FAKE', '801.mp4': 'REAL', '801_855.mp4': 'FAKE', '802.mp4': 'REAL', '802_885.mp4': 'FAKE', '803.mp4': 'REAL', '803_017.mp4': 'FAKE', '804.mp4': 'REAL', '804_738.mp4': 'FAKE', '805.mp4': 'REAL', '805_011.mp4': 'FAKE', '806.mp4': 'REAL', '806_781.mp4': 'FAKE', '807.mp4': 'REAL', '807_273.mp4': 'FAKE', '808.mp4': 'REAL', '808_829.mp4': 'FAKE', '809.mp4': 'REAL', '809_799.mp4': 'FAKE', '810.mp4': 'REAL', '810_838.mp4': 'FAKE', '811.mp4': 'REAL', '811_920.mp4': 'FAKE', '812.mp4': 'REAL', '812_821.mp4': 'FAKE', '813.mp4': 'REAL', '813_700.mp4': 'FAKE', '814.mp4': 'REAL', '814_871.mp4': 'FAKE', '815.mp4': 'REAL', '815_730.mp4': 'FAKE', '816.mp4': 'REAL', '816_649.mp4': 'FAKE', '817.mp4': 'REAL', '817_827.mp4': 'FAKE', '818.mp4': 'REAL', '818_820.mp4': 'FAKE', '819.mp4': 'REAL', '819_786.mp4': 'FAKE', '820.mp4': 'REAL', '820_818.mp4': 'FAKE', '821.mp4': 'REAL', '821_812.mp4': 'FAKE', '822.mp4': 'REAL', '822_244.mp4': 'FAKE', '823.mp4': 'REAL', '823_584.mp4': 'FAKE', '824.mp4': 'REAL', '824_419.mp4': 'FAKE', '825.mp4': 'REAL', '825_074.mp4': 'FAKE', '826.mp4': 'REAL', '826_833.mp4': 'FAKE', '827.mp4': 'REAL', '827_817.mp4': 'FAKE', '828.mp4': 'REAL', '828_830.mp4': 'FAKE', '829.mp4': 'REAL', '829_808.mp4': 'FAKE', '830.mp4': 'REAL', '830_828.mp4': 'FAKE', '831.mp4': 'REAL', '831_508.mp4': 'FAKE', '832.mp4': 'REAL', '832_762.mp4': 'FAKE', '833.mp4': 'REAL', '833_826.mp4': 'FAKE', '834.mp4': 'REAL', '834_852.mp4': 'FAKE', '835.mp4': 'REAL', '835_651.mp4': 'FAKE', '836.mp4': 'REAL', '836_950.mp4': 'FAKE', '837.mp4': 'REAL', '837_890.mp4': 'FAKE', '838.mp4': 'REAL', '838_810.mp4': 'FAKE', '839.mp4': 'REAL', '839_864.mp4': 'FAKE', '840.mp4': 'REAL', '840_800.mp4': 'FAKE', '841.mp4': 'REAL', '841_639.mp4': 'FAKE', '842.mp4': 'REAL', '842_714.mp4': 'FAKE', '843.mp4': 'REAL', '843_859.mp4': 'FAKE', '844.mp4': 'REAL', '844_797.mp4': 'FAKE', '845.mp4': 'REAL', '845_846.mp4': 'FAKE', '846.mp4': 'REAL', '846_845.mp4': 'FAKE', '847.mp4': 'REAL', '847_906.mp4': 'FAKE', '848.mp4': 'REAL', '848_894.mp4': 'FAKE', '849_771.mp4': 'FAKE', '850.mp4': 'REAL', '850_764.mp4': 'FAKE', '851.mp4': 'REAL', '851_552.mp4': 'FAKE', '852.mp4': 'REAL', '852_834.mp4': 'FAKE', '853.mp4': 'REAL', '853_863.mp4': 'FAKE', '854.mp4': 'REAL', '854_747.mp4': 'FAKE', '855.mp4': 'REAL', '855_801.mp4': 'FAKE', '856.mp4': 'REAL', '856_881.mp4': 'FAKE', '857.mp4': 'REAL', '857_909.mp4': 'FAKE', '858.mp4': 'REAL', '858_861.mp4': 'FAKE', '859.mp4': 'REAL', '859_843.mp4': 'FAKE', '860.mp4': 'REAL', '860_905.mp4': 'FAKE', '861.mp4': 'REAL', '861_858.mp4': 'FAKE', '862.mp4': 'REAL', '862_047.mp4': 'FAKE', '863.mp4': 'REAL', '863_853.mp4': 'FAKE', '864.mp4': 'REAL', '864_839.mp4': 'FAKE', '865.mp4': 'REAL', '865_739.mp4': 'FAKE', '866.mp4': 'REAL', '866_878.mp4': 'FAKE', '867.mp4': 'REAL', '867_765.mp4': 'FAKE', '868.mp4': 'REAL', '868_949.mp4': 'FAKE', '869.mp4': 'REAL', '869_780.mp4': 'FAKE', '870.mp4': 'REAL', '870_001.mp4': 'FAKE', '871.mp4': 'REAL', '871_814.mp4': 'FAKE', '872.mp4': 'REAL', '872_873.mp4': 'FAKE', '873.mp4': 'REAL', '873_872.mp4': 'FAKE', '874.mp4': 'REAL', '874_291.mp4': 'FAKE', '875.mp4': 'REAL', '875_979.mp4': 'FAKE', '876.mp4': 'REAL', '876_891.mp4': 'FAKE', '877.mp4': 'REAL', '877_886.mp4': 'FAKE', '878.mp4': 'REAL', '878_866.mp4': 'FAKE', '879.mp4': 'REAL', '879_963.mp4': 'FAKE', '880.mp4': 'REAL', '880_135.mp4': 'FAKE', '881.mp4': 'REAL', '881_856.mp4': 'FAKE', '882.mp4': 'REAL', '882_952.mp4': 'FAKE', '883.mp4': 'REAL', '883_013.mp4': 'FAKE', '884.mp4': 'REAL', '884_968.mp4': 'FAKE', '885.mp4': 'REAL', '885_802.mp4': 'FAKE', '886.mp4': 'REAL', '886_877.mp4': 'FAKE', '887.mp4': 'REAL', '887_275.mp4': 'FAKE', '888.mp4': 'REAL', '888_937.mp4': 'FAKE', '889.mp4': 'REAL', '889_045.mp4': 'FAKE', '890.mp4': 'REAL', '890_837.mp4': 'FAKE', '891.mp4': 'REAL', '891_876.mp4': 'FAKE', '892.mp4': 'REAL', '892_112.mp4': 'FAKE', '893.mp4': 'REAL', '893_913.mp4': 'FAKE', '894.mp4': 'REAL', '894_848.mp4': 'FAKE', '895.mp4': 'REAL', '895_915.mp4': 'FAKE', '896.mp4': 'REAL', '896_128.mp4': 'FAKE', '897.mp4': 'REAL', '897_969.mp4': 'FAKE', '898.mp4': 'REAL', '898_922.mp4': 'FAKE', '899.mp4': 'REAL', '899_914.mp4': 'FAKE', '900.mp4': 'REAL', '900_926.mp4': 'FAKE', '901.mp4': 'REAL', '901_902.mp4': 'FAKE', '902.mp4': 'REAL', '902_901.mp4': 'FAKE', '903.mp4': 'REAL', '903_792.mp4': 'FAKE', '904.mp4': 'REAL', '904_046.mp4': 'FAKE', '905.mp4': 'REAL', '905_860.mp4': 'FAKE', '906.mp4': 'REAL', '906_847.mp4': 'FAKE', '907.mp4': 'REAL', '907_795.mp4': 'FAKE', '908.mp4': 'REAL', '908_207.mp4': 'FAKE', '909.mp4': 'REAL', '909_857.mp4': 'FAKE', '910.mp4': 'REAL', '910_911.mp4': 'FAKE', '911.mp4': 'REAL', '911_910.mp4': 'FAKE', '912.mp4': 'REAL', '912_927.mp4': 'FAKE', '913.mp4': 'REAL', '913_893.mp4': 'FAKE', '914.mp4': 'REAL', '914_899.mp4': 'FAKE', '915.mp4': 'REAL', '915_895.mp4': 'FAKE', '916.mp4': 'REAL', '916_783.mp4': 'FAKE', '917.mp4': 'REAL', '917_924.mp4': 'FAKE', '918.mp4': 'REAL', '918_934.mp4': 'FAKE', '919.mp4': 'REAL', '919_015.mp4': 'FAKE', '920.mp4': 'REAL', '920_811.mp4': 'FAKE', '921.mp4': 'REAL', '921_569.mp4': 'FAKE', '922.mp4': 'REAL', '922_898.mp4': 'FAKE', '923.mp4': 'REAL', '923_023.mp4': 'FAKE', '924.mp4': 'REAL', '924_917.mp4': 'FAKE', '925.mp4': 'REAL', '925_933.mp4': 'FAKE', '926.mp4': 'REAL', '926_900.mp4': 'FAKE', '927.mp4': 'REAL', '927_912.mp4': 'FAKE', '928.mp4': 'REAL', '928_160.mp4': 'FAKE', '929.mp4': 'REAL', '929_962.mp4': 'FAKE', '930.mp4': 'REAL', '930_763.mp4': 'FAKE', '931.mp4': 'REAL', '931_936.mp4': 'FAKE', '932.mp4': 'REAL', '932_384.mp4': 'FAKE', '933.mp4': 'REAL', '933_925.mp4': 'FAKE', '934.mp4': 'REAL', '934_918.mp4': 'FAKE', '935.mp4': 'REAL', '935_733.mp4': 'FAKE', '936.mp4': 'REAL', '936_931.mp4': 'FAKE', '937.mp4': 'REAL', '937_888.mp4': 'FAKE', '938.mp4': 'REAL', '938_987.mp4': 'FAKE', '939.mp4': 'REAL', '939_115.mp4': 'FAKE', '940.mp4': 'REAL', '940_941.mp4': 'FAKE', '941.mp4': 'REAL', '941_940.mp4': 'FAKE', '942.mp4': 'REAL', '942_943.mp4': 'FAKE', '943.mp4': 'REAL', '943_942.mp4': 'FAKE', '944.mp4': 'REAL', '944_032.mp4': 'FAKE', '945.mp4': 'REAL', '945_044.mp4': 'FAKE', '946.mp4': 'REAL', '946_049.mp4': 'FAKE', '947.mp4': 'REAL', '947_951.mp4': 'FAKE', '948.mp4': 'REAL', '948_965.mp4': 'FAKE', '949.mp4': 'REAL', '949_868.mp4': 'FAKE', '950.mp4': 'REAL', '950_836.mp4': 'FAKE', '951.mp4': 'REAL', '951_947.mp4': 'FAKE', '952.mp4': 'REAL', '952_882.mp4': 'FAKE', '953.mp4': 'REAL', '953_974.mp4': 'FAKE', '954.mp4': 'REAL', '954_976.mp4': 'FAKE', '955.mp4': 'REAL', '955_078.mp4': 'FAKE', '956.mp4': 'REAL', '956_958.mp4': 'FAKE', '957.mp4': 'REAL', '957_959.mp4': 'FAKE', '958.mp4': 'REAL', '958_956.mp4': 'FAKE', '959.mp4': 'REAL', '959_957.mp4': 'FAKE', '960.mp4': 'REAL', '960_999.mp4': 'FAKE', '961.mp4': 'REAL', '961_069.mp4': 'FAKE', '962.mp4': 'REAL', '962_929.mp4': 'FAKE', '963.mp4': 'REAL', '963_879.mp4': 'FAKE', '964.mp4': 'REAL', '964_174.mp4': 'FAKE', '965_948.mp4': 'FAKE', '966.mp4': 'REAL', '966_988.mp4': 'FAKE', '967.mp4': 'REAL', '967_984.mp4': 'FAKE', '968.mp4': 'REAL', '968_884.mp4': 'FAKE', '969.mp4': 'REAL', '969_897.mp4': 'FAKE', '970.mp4': 'REAL', '970_973.mp4': 'FAKE', '971.mp4': 'REAL', '971_564.mp4': 'FAKE', '972.mp4': 'REAL', '972_718.mp4': 'FAKE', '973.mp4': 'REAL', '973_970.mp4': 'FAKE', '974.mp4': 'REAL', '974_953.mp4': 'FAKE', '975.mp4': 'REAL', '975_978.mp4': 'FAKE', '976.mp4': 'REAL', '976_954.mp4': 'FAKE', '977.mp4': 'REAL', '977_075.mp4': 'FAKE', '978.mp4': 'REAL', '978_975.mp4': 'FAKE', '979.mp4': 'REAL', '979_875.mp4': 'FAKE', '980.mp4': 'REAL', '980_992.mp4': 'FAKE', '981.mp4': 'REAL', '981_985.mp4': 'FAKE', '982.mp4': 'REAL', '982_004.mp4': 'FAKE', '983.mp4': 'REAL', '983_113.mp4': 'FAKE', '984.mp4': 'REAL', '984_967.mp4': 'FAKE', '985.mp4': 'REAL', '985_981.mp4': 'FAKE', '986.mp4': 'REAL', '986_994.mp4': 'FAKE', '987.mp4': 'REAL', '987_938.mp4': 'FAKE', '988.mp4': 'REAL', '988_966.mp4': 'FAKE', '989.mp4': 'REAL', '989_993.mp4': 'FAKE', '990.mp4': 'REAL', '990_008.mp4': 'FAKE', '991.mp4': 'REAL', '991_064.mp4': 'FAKE', '992.mp4': 'REAL', '992_980.mp4': 'FAKE', '993.mp4': 'REAL', '993_989.mp4': 'FAKE', '994.mp4': 'REAL', '994_986.mp4': 'FAKE', '995.mp4': 'REAL', '995_233.mp4': 'FAKE', '996.mp4': 'REAL', '996_056.mp4': 'FAKE', '997.mp4': 'REAL', '997_040.mp4': 'FAKE', '998.mp4': 'REAL', '998_561.mp4': 'FAKE', '999.mp4': 'REAL', '999_960.mp4': 'FAKE'}\n"
          ]
        }
      ]
    },
    {
      "cell_type": "code",
      "source": [
        "def extract_frames(video_path, label, img_size=(128, 128)):\n",
        "    cap = cv2.VideoCapture(video_path)\n",
        "    frames = []\n",
        "    while cap.isOpened():\n",
        "        ret, frame = cap.read()\n",
        "        if not ret:\n",
        "            break\n",
        "        frame = cv2.resize(frame, img_size)\n",
        "        frame = frame / 255.0  # Normalize\n",
        "        frames.append(frame)\n",
        "    cap.release()\n",
        "    return frames, [label] * len(frames)\n"
      ],
      "metadata": {
        "id": "madfmb8e-WyL"
      },
      "execution_count": 6,
      "outputs": []
    },
    {
      "cell_type": "code",
      "source": [
        "from tensorflow.keras.utils import Sequence\n",
        "import numpy as np\n",
        "class VideoFrameGenerator(Sequence):\n",
        "    def __init__(self, videos_path, metadata, batch_size=32, img_size=(128, 128), shuffle=True):\n",
        "        self.videos_path = videos_path\n",
        "        self.metadata = list(metadata.items())\n",
        "        self.batch_size = batch_size\n",
        "        self.img_size = img_size\n",
        "        self.shuffle = shuffle\n",
        "        self.on_epoch_end()\n",
        "\n",
        "    def __len__(self):\n",
        "        return int(np.floor(len(self.metadata) / self.batch_size))\n",
        "\n",
        "    def __getitem__(self, index):\n",
        "        batch_files = self.metadata[index * self.batch_size:(index + 1) * self.batch_size]\n",
        "        return self.__data_generation(batch_files)\n",
        "\n",
        "    def on_epoch_end(self):\n",
        "        if self.shuffle:\n",
        "            np.random.shuffle(self.metadata)\n",
        "\n",
        "    def extract_frames(self, video_path, img_size):\n",
        "        cap = cv2.VideoCapture(video_path)\n",
        "        frames = []\n",
        "        while cap.isOpened():\n",
        "            ret, frame = cap.read()\n",
        "            if not ret or len(frames) >= 10:  # Limit frames per video to save memory\n",
        "                break\n",
        "            frame = cv2.resize(frame, img_size)\n",
        "            frame = frame / 255.0  # Normalize\n",
        "            frames.append(frame)\n",
        "        cap.release()\n",
        "        return np.array(frames)\n",
        "\n",
        "    def __data_generation(self, batch_files):\n",
        "        X, y = [], []\n",
        "        for video_name, label in batch_files:\n",
        "            video_path = os.path.join(self.videos_path, video_name)\n",
        "            if os.path.exists(video_path):\n",
        "                frames = self.extract_frames(video_path, self.img_size)\n",
        "                for frame in frames:\n",
        "                    X.append(frame)\n",
        "                    y.append(1 if label == \"FAKE\" else 0)\n",
        "        return np.array(X), np.array(y)\n"
      ],
      "metadata": {
        "id": "eHN0i7VaAyJs"
      },
      "execution_count": 10,
      "outputs": []
    },
    {
      "cell_type": "code",
      "source": [
        "# Create Generators\n",
        "batch_size = 16\n",
        "train_generator = VideoFrameGenerator(videos_path, metadata, batch_size=batch_size)\n",
        "val_generator = VideoFrameGenerator(videos_path, metadata, batch_size=batch_size, shuffle=False)"
      ],
      "metadata": {
        "id": "3ItWJkaQBYE0"
      },
      "execution_count": 11,
      "outputs": []
    },
    {
      "cell_type": "code",
      "source": [
        "from tensorflow import keras\n",
        "from tensorflow.keras import layers\n",
        "import os\n",
        "import cv2\n",
        "def build_model(input_shape=(128, 128, 3)):\n",
        "    model = keras.Sequential([\n",
        "        layers.Conv2D(32, (3, 3), activation='relu', input_shape=input_shape),\n",
        "        layers.MaxPooling2D((2, 2)),\n",
        "        layers.Conv2D(64, (3, 3), activation='relu'),\n",
        "        layers.MaxPooling2D((2, 2)),\n",
        "        layers.Conv2D(128, (3, 3), activation='relu'),\n",
        "        layers.MaxPooling2D((2, 2)),\n",
        "        layers.Flatten(),\n",
        "        layers.Dense(128, activation='relu'),\n",
        "        layers.Dropout(0.5),\n",
        "        layers.Dense(1, activation='sigmoid')\n",
        "    ])\n",
        "\n",
        "    model.compile(optimizer='adam', loss='binary_crossentropy', metrics=['accuracy'])\n",
        "    return model\n",
        "\n",
        "# Build and train the model\n",
        "model = build_model()\n",
        "history = model.fit(train_generator, epochs=10, validation_data=val_generator)"
      ],
      "metadata": {
        "colab": {
          "base_uri": "https://localhost:8080/"
        },
        "id": "BmDgYMoDCHxr",
        "outputId": "722ea88e-0e3f-4b46-83c8-5124ecfdf286"
      },
      "execution_count": 15,
      "outputs": [
        {
          "metadata": {
            "tags": null
          },
          "name": "stderr",
          "output_type": "stream",
          "text": [
            "/usr/local/lib/python3.11/dist-packages/keras/src/layers/convolutional/base_conv.py:107: UserWarning: Do not pass an `input_shape`/`input_dim` argument to a layer. When using Sequential models, prefer using an `Input(shape)` object as the first layer in the model instead.\n",
            "  super().__init__(activity_regularizer=activity_regularizer, **kwargs)\n"
          ]
        },
        {
          "metadata": {
            "tags": null
          },
          "name": "stdout",
          "output_type": "stream",
          "text": [
            "Epoch 1/10\n",
            "\u001b[1m124/124\u001b[0m \u001b[32m━━━━━━━━━━━━━━━━━━━━\u001b[0m\u001b[37m\u001b[0m \u001b[1m0s\u001b[0m 4s/step - accuracy: 0.5230 - loss: 0.7091"
          ]
        },
        {
          "metadata": {
            "tags": null
          },
          "name": "stderr",
          "output_type": "stream",
          "text": [
            "/usr/local/lib/python3.11/dist-packages/keras/src/trainers/data_adapters/py_dataset_adapter.py:121: UserWarning: Your `PyDataset` class should call `super().__init__(**kwargs)` in its constructor. `**kwargs` can include `workers`, `use_multiprocessing`, `max_queue_size`. Do not pass these arguments to `fit()`, as they will be ignored.\n",
            "  self._warn_if_super_not_called()\n"
          ]
        },
        {
          "output_type": "stream",
          "name": "stdout",
          "text": [
            "\u001b[1m124/124\u001b[0m \u001b[32m━━━━━━━━━━━━━━━━━━━━\u001b[0m\u001b[37m\u001b[0m \u001b[1m664s\u001b[0m 5s/step - accuracy: 0.5228 - loss: 0.7090 - val_accuracy: 0.5008 - val_loss: 0.6931\n",
            "Epoch 2/10\n",
            "\u001b[1m124/124\u001b[0m \u001b[32m━━━━━━━━━━━━━━━━━━━━\u001b[0m\u001b[37m\u001b[0m \u001b[1m544s\u001b[0m 4s/step - accuracy: 0.4989 - loss: 0.6932 - val_accuracy: 0.4991 - val_loss: 0.6931\n",
            "Epoch 3/10\n",
            "\u001b[1m124/124\u001b[0m \u001b[32m━━━━━━━━━━━━━━━━━━━━\u001b[0m\u001b[37m\u001b[0m \u001b[1m530s\u001b[0m 4s/step - accuracy: 0.5027 - loss: 0.6932 - val_accuracy: 0.4995 - val_loss: 0.6931\n",
            "Epoch 4/10\n",
            "\u001b[1m124/124\u001b[0m \u001b[32m━━━━━━━━━━━━━━━━━━━━\u001b[0m\u001b[37m\u001b[0m \u001b[1m544s\u001b[0m 4s/step - accuracy: 0.4892 - loss: 0.6932 - val_accuracy: 0.5004 - val_loss: 0.6931\n",
            "Epoch 5/10\n",
            "\u001b[1m124/124\u001b[0m \u001b[32m━━━━━━━━━━━━━━━━━━━━\u001b[0m\u001b[37m\u001b[0m \u001b[1m556s\u001b[0m 4s/step - accuracy: 0.5007 - loss: 0.6931 - val_accuracy: 0.5005 - val_loss: 0.6931\n",
            "Epoch 6/10\n",
            "\u001b[1m124/124\u001b[0m \u001b[32m━━━━━━━━━━━━━━━━━━━━\u001b[0m\u001b[37m\u001b[0m \u001b[1m551s\u001b[0m 4s/step - accuracy: 0.4841 - loss: 0.6932 - val_accuracy: 0.4995 - val_loss: 0.6931\n",
            "Epoch 7/10\n",
            "\u001b[1m124/124\u001b[0m \u001b[32m━━━━━━━━━━━━━━━━━━━━\u001b[0m\u001b[37m\u001b[0m \u001b[1m538s\u001b[0m 4s/step - accuracy: 0.5143 - loss: 0.6931 - val_accuracy: 0.4995 - val_loss: 0.6931\n",
            "Epoch 8/10\n",
            "\u001b[1m124/124\u001b[0m \u001b[32m━━━━━━━━━━━━━━━━━━━━\u001b[0m\u001b[37m\u001b[0m \u001b[1m540s\u001b[0m 4s/step - accuracy: 0.4862 - loss: 0.6932 - val_accuracy: 0.4995 - val_loss: 0.6931\n",
            "Epoch 9/10\n",
            "\u001b[1m124/124\u001b[0m \u001b[32m━━━━━━━━━━━━━━━━━━━━\u001b[0m\u001b[37m\u001b[0m \u001b[1m544s\u001b[0m 4s/step - accuracy: 0.5058 - loss: 0.6932 - val_accuracy: 0.5005 - val_loss: 0.6931\n",
            "Epoch 10/10\n",
            "\u001b[1m124/124\u001b[0m \u001b[32m━━━━━━━━━━━━━━━━━━━━\u001b[0m\u001b[37m\u001b[0m \u001b[1m536s\u001b[0m 4s/step - accuracy: 0.4884 - loss: 0.6932 - val_accuracy: 0.5005 - val_loss: 0.6931\n"
          ]
        }
      ]
    },
    {
      "cell_type": "code",
      "source": [
        "loss, accuracy = model.evaluate(val_generator)\n",
        "print(f\"Test Accuracy: {accuracy:.2f}\")"
      ],
      "metadata": {
        "colab": {
          "base_uri": "https://localhost:8080/"
        },
        "id": "cDqoA1_YYYvg",
        "outputId": "169b0549-7daf-43e5-f8a5-bfb1b4928dc4"
      },
      "execution_count": 17,
      "outputs": [
        {
          "output_type": "stream",
          "name": "stdout",
          "text": [
            "\u001b[1m124/124\u001b[0m \u001b[32m━━━━━━━━━━━━━━━━━━━━\u001b[0m\u001b[37m\u001b[0m \u001b[1m135s\u001b[0m 1s/step - accuracy: 0.4999 - loss: 0.6931\n",
            "Test Accuracy: 0.50\n"
          ]
        }
      ]
    },
    {
      "cell_type": "code",
      "source": [
        "model.save(\"/content/deepfake_detector.h5\")\n",
        "print(\"Model saved successfully!\")\n"
      ],
      "metadata": {
        "colab": {
          "base_uri": "https://localhost:8080/"
        },
        "id": "nnGKNh3NPoOB",
        "outputId": "03e8590b-ad79-433a-9046-4dfdc2fe46b5"
      },
      "execution_count": 20,
      "outputs": [
        {
          "output_type": "stream",
          "name": "stderr",
          "text": [
            "WARNING:absl:You are saving your model as an HDF5 file via `model.save()` or `keras.saving.save_model(model)`. This file format is considered legacy. We recommend using instead the native Keras format, e.g. `model.save('my_model.keras')` or `keras.saving.save_model(model, 'my_model.keras')`. \n"
          ]
        },
        {
          "output_type": "stream",
          "name": "stdout",
          "text": [
            "Model saved successfully!\n"
          ]
        },
        {
          "output_type": "stream",
          "name": "stderr",
          "text": [
            "WARNING:absl:You are saving your model as an HDF5 file via `model.save()` or `keras.saving.save_model(model)`. This file format is considered legacy. We recommend using instead the native Keras format, e.g. `model.save('my_model.keras')` or `keras.saving.save_model(model, 'my_model.keras')`. \n"
          ]
        },
        {
          "output_type": "stream",
          "name": "stdout",
          "text": [
            "Model saved successfully!\n"
          ]
        }
      ]
    }
  ]
}